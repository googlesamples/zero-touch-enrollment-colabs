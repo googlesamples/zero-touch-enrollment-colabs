{
  "nbformat": 4,
  "nbformat_minor": 0,
  "metadata": {
    "colab": {
      "provenance": [],
      "collapsed_sections": [
        "AUDOq6eR7ip4",
        "11jLnbCb9lzA",
        "spc3K0wq9rSt",
        "C58ESE_8SUiL"
      ]
    },
    "kernelspec": {
      "name": "python3",
      "display_name": "Python 3"
    },
    "language_info": {
      "name": "python"
    }
  },
  "cells": [
    {
      "cell_type": "markdown",
      "source": [
        "#### Copyright 2024 Google LLC.\n",
        "\n",
        "Licensed under the Apache License, Version 2.0 (the \"License\");"
      ],
      "metadata": {
        "id": "6Ioe5COG7Wd4"
      }
    },
    {
      "cell_type": "code",
      "execution_count": null,
      "metadata": {
        "id": "FTlQIAtH7LQu"
      },
      "outputs": [],
      "source": [
        "# Licensed under the Apache License, Version 2.0 (the \"License\");\n",
        "# you may not use this file except in compliance with the License.\n",
        "# You may obtain a copy of the License at\n",
        "\n",
        "# https://www.apache.org/licenses/LICENSE-2.0\n",
        "\n",
        "# Unless required by applicable law or agreed to in writing, software\n",
        "# distributed under the License is distributed on an \"AS IS\" BASIS,\n",
        "# WITHOUT WARRANTIES OR CONDITIONS OF ANY KIND, either express or implied.\n",
        "# See the License for the specific language governing permissions and\n",
        "# limitations under the License."
      ]
    },
    {
      "cell_type": "markdown",
      "source": [
        "# Setup\n",
        "\n",
        "Follow [this guide](https://developers.google.com/zero-touch/guides/auth) to set up your service account.\n",
        "\n",
        "Download a service account key from the [Google Cloud Console](https://console.cloud.google.com) in JSON format.\n",
        "\n",
        "Upload this file using the 'Files' tab in the side menu of this colab, and rename the file to 'sa.json'."
      ],
      "metadata": {
        "id": "AUDOq6eR7ip4"
      }
    },
    {
      "cell_type": "markdown",
      "source": [],
      "metadata": {
        "id": "1OxuF32-ALSp"
      }
    },
    {
      "cell_type": "code",
      "source": [
        "#@title Set up the environment and authenticate with the service\n",
        "import json\n",
        "from apiclient import discovery\n",
        "import httplib2\n",
        "from oauth2client.service_account import ServiceAccountCredentials\n",
        "from google.protobuf import field_mask_pb2\n",
        "\n",
        "# A single auth scope is used for the zero-touch enrollment customer API.\n",
        "SCOPES = ['https://www.googleapis.com/auth/androidworkprovisioning']\n",
        "SERVICE_ACCOUNT_KEY_FILE = 'sa.json'\n",
        "\n",
        "def get_credential():\n",
        "  \"\"\"Creates a Credential object with the correct OAuth2 authorization.\n",
        "\n",
        "  Uses the service account key stored in SERVICE_ACCOUNT_KEY_FILE.\n",
        "\n",
        "  Returns:\n",
        "    Credentials, the user's credential.\n",
        "  \"\"\"\n",
        "  credential = ServiceAccountCredentials.from_json_keyfile_name(\n",
        "    SERVICE_ACCOUNT_KEY_FILE, SCOPES)\n",
        "\n",
        "  if not credential or credential.invalid:\n",
        "    print('Unable to authenticate using service account key.')\n",
        "  return credential\n",
        "\n",
        "\n",
        "def get_service():\n",
        "  \"\"\"Creates a service endpoint for the zero-touch enrollment API.\n",
        "\n",
        "  Builds and returns an authorized API client service for v1 of the API. Use\n",
        "  the service endpoint to call the API methods.\n",
        "\n",
        "  Returns:\n",
        "    A service Resource object with methods for interacting with the service.\n",
        "  \"\"\"\n",
        "  http_auth = get_credential().authorize(httplib2.Http())\n",
        "  return discovery.build('androiddeviceprovisioning', 'v1', http=http_auth)\n",
        "\n",
        "# Create a zero-touch enrollment API service endpoint.\n",
        "service = get_service()\n",
        "\n",
        "PARTNER_ID = '595346643' #@param {type:\"string\"}"
      ],
      "metadata": {
        "cellView": "form",
        "id": "ZvL-srHC7r-f"
      },
      "execution_count": 1,
      "outputs": []
    },
    {
      "cell_type": "markdown",
      "source": [
        "# partners.customers"
      ],
      "metadata": {
        "id": "11jLnbCb9lzA"
      }
    },
    {
      "cell_type": "code",
      "source": [
        "#@title [partners.customers.list](https://developers.google.com/zero-touch/reference/reseller/rest/v1/partners.customers/list)\n",
        "\n",
        "service.partners().customers().list(partnerId=PARTNER_ID).execute()"
      ],
      "metadata": {
        "id": "0tzq05En84Jw",
        "cellView": "form"
      },
      "execution_count": null,
      "outputs": []
    },
    {
      "cell_type": "markdown",
      "source": [
        "# partners.devices"
      ],
      "metadata": {
        "id": "spc3K0wq9rSt"
      }
    },
    {
      "cell_type": "code",
      "source": [
        "#@title [partners.devices.claim](https://developers.google.com/zero-touch/reference/reseller/rest/v1/partners.devices/claim)\n",
        "#@markdown This will claim the device using the IMEI and Customer ID\n",
        "\n",
        "## CLAIM DEVICE\n",
        "def claim(imei,customer_id):\n",
        "  device_identifier = {\n",
        "    'imei':imei\n",
        "    }\n",
        "\n",
        "  request_body = {\n",
        "    'deviceIdentifier':device_identifier,\n",
        "    'customerId':customer_id,\n",
        "    'sectionType':'SECTION_TYPE_ZERO_TOUCH'\n",
        "    }\n",
        "\n",
        "  # Claim the device\n",
        "  response = service.partners().devices().claim(partnerId=PARTNER_ID,body=request_body).execute()\n",
        "  print(response)\n",
        "\n",
        "#@markdown sample `device_imei` : `123456789012347`\n",
        "device_imei = '123456789012347' #@param {type:\"string\"}\n",
        "customer_id = '1520371398' #@param {type:\"string\"}\n",
        "claim(device_imei,customer_id)"
      ],
      "metadata": {
        "cellView": "form",
        "id": "ikkXoKSY9tsn"
      },
      "execution_count": null,
      "outputs": []
    },
    {
      "cell_type": "code",
      "source": [
        "#@title [partners.devices.unclaim](https://developers.google.com/zero-touch/reference/reseller/rest/v1/partners.devices/unclaim)\n",
        "#@markdown This will unclaim the device using the IMEI\n",
        "## UNCLAIM DEVICE\n",
        "def unclaim(imei):\n",
        "  # Wrap the hardware ID and manufacturer values in a DeviceIdentifier.\n",
        "  # Then wrap the DeviceIdentifier in a DeviceReference.\n",
        "  device_identifier = {\n",
        "    'imei':imei\n",
        "    }\n",
        "\n",
        "  request_body = {\n",
        "      'deviceIdentifier': device_identifier,\n",
        "      'sectionType':'SECTION_TYPE_ZERO_TOUCH'\n",
        "      }\n",
        "\n",
        "  # Unclaim the device\n",
        "  response = service.partners().devices().unclaim(partnerId=PARTNER_ID, body=request_body).execute()\n",
        "  print(response)\n",
        "\n",
        "#@markdown sample `device_imei` : `123456789012347`\n",
        "device_imei = '123456789012347' #@param {type:\"string\"}\n",
        "unclaim(device_imei)"
      ],
      "metadata": {
        "cellView": "form",
        "id": "XZeIYHQm-PFW"
      },
      "execution_count": null,
      "outputs": []
    },
    {
      "cell_type": "code",
      "source": [
        "#@title [partners.devices.claimAsync](https://developers.google.com/zero-touch/reference/reseller/rest/v1/partners.devices/claimAsync)\n",
        "#@markdown This will claim multiple devices using the IMEI and Customer ID\n",
        "\n",
        "def claim(imeis,customer_id):\n",
        "  partner_claims = []\n",
        "  for imei in imeis:\n",
        "    device_identifier = {\n",
        "      'imei':imei\n",
        "      }\n",
        "\n",
        "    partner_claim = {\n",
        "      'deviceIdentifier':device_identifier,\n",
        "      'customerId':customer_id,\n",
        "      'sectionType':'SECTION_TYPE_ZERO_TOUCH'\n",
        "      }\n",
        "\n",
        "    partner_claims.append(partner_claim)\n",
        "\n",
        "  request_body = {\n",
        "      'claims': partner_claims\n",
        "  }\n",
        "\n",
        "  # Claim the device\n",
        "  response = service.partners().devices().claimAsync(partnerId=PARTNER_ID,body=request_body).execute()\n",
        "  print(response)\n",
        "\n",
        "device1_imei = '123456789012347' #@param {type:\"string\"}\n",
        "device2_imei = '123456789012348' #@param {type:\"string\"}\n",
        "customer_id = '1520371398' #@param {type:\"string\"}\n",
        "claim([device1_imei, device2_imei],customer_id)"
      ],
      "metadata": {
        "cellView": "form",
        "id": "Gkf_8kS7PS1L"
      },
      "execution_count": null,
      "outputs": []
    },
    {
      "cell_type": "code",
      "source": [
        "#@title [partners.devices.unclaimAsync](https://developers.google.com/zero-touch/reference/reseller/rest/v1/partners.devices/unclaimAsync)\n",
        "#@markdown This will unclaim the device using the IMEI\n",
        "## UNCLAIM DEVICE\n",
        "def unclaim_async(imeis):\n",
        "  partner_unclaims = []\n",
        "  for imei in imeis:\n",
        "    # Wrap the hardware ID and manufacturer values in a DeviceIdentifier.\n",
        "    # Then wrap the DeviceIdentifier in a DeviceReference.\n",
        "    device_identifier = {\n",
        "      'imei':imei\n",
        "      }\n",
        "\n",
        "    partner_unclaim = {\n",
        "        'deviceIdentifier': device_identifier,\n",
        "        'sectionType':'SECTION_TYPE_ZERO_TOUCH'\n",
        "        }\n",
        "\n",
        "    partner_unclaims.append(partner_unclaim)\n",
        "\n",
        "  request_body = {\n",
        "      'unclaims': partner_unclaims\n",
        "  }\n",
        "\n",
        "  # Unclaim the device\n",
        "  response = service.partners().devices().unclaimAsync(partnerId=PARTNER_ID, body=request_body).execute()\n",
        "  print(response)\n",
        "\n",
        "#@markdown sample `device_imei` : `123456789012347`\n",
        "device1_imei = '123456789012347' #@param {type:\"string\"}\n",
        "device2_imei = '123456789012348' #@param {type:\"string\"}\n",
        "unclaim_async([device1_imei, device2_imei])"
      ],
      "metadata": {
        "cellView": "form",
        "id": "6GkO0oD8UKAD"
      },
      "execution_count": null,
      "outputs": []
    },
    {
      "cell_type": "code",
      "source": [
        "#@title [partners.devices.get](https://developers.google.com/zero-touch/reference/reseller/rest/v1/partners.devices/get)\n",
        "#@markdown This gets the device details\n",
        "\n",
        "def get_device(device_id):\n",
        "  print('get device')\n",
        "  device_name='partners/'+PARTNER_ID+'/devices/'+device_id\n",
        "  response = service.partners().devices().get(name=device_name).execute()\n",
        "  print (response)\n",
        "\n",
        "#@markdown sample `device_id` : `4037820647906988512`\n",
        "device_id = '' #@param {type:\"string\"}\n",
        "get_device(device_id)"
      ],
      "metadata": {
        "cellView": "form",
        "id": "u-kHTm5gLdkF"
      },
      "execution_count": null,
      "outputs": []
    },
    {
      "cell_type": "code",
      "source": [
        "#@title [partners.devices.findByIdentifier](https://developers.google.com/zero-touch/reference/reseller/rest/v1/partners.devices/findByIdentifier)\n",
        "#@markdown This finds a device using the device's identifiers\n",
        "\n",
        "def find_by_identifier(device_imei):\n",
        "  print('find by identifier')\n",
        "  device = {\n",
        "      'imei': device_imei\n",
        "  }\n",
        "  request_body = {\n",
        "      'limit': 100,\n",
        "      'deviceIdentifier': device\n",
        "  }\n",
        "  response = service.partners().devices().findByIdentifier(partnerId=PARTNER_ID, body=request_body).execute()\n",
        "  print (response)\n",
        "\n",
        "#@markdown sample `device_imei` : `123456789012347`\n",
        "device_imei = '123456789012347' #@param {type:\"string\"}\n",
        "find_by_identifier(device_imei)"
      ],
      "metadata": {
        "cellView": "form",
        "id": "pkkdE7pRU-xE"
      },
      "execution_count": null,
      "outputs": []
    },
    {
      "cell_type": "code",
      "source": [
        "#@title [partners.devices.findByOwner](https://developers.google.com/zero-touch/reference/reseller/rest/v1/partners.devices/findByOwner)\n",
        "#@markdown This finds a device using the customer ID\n",
        "\n",
        "def find_by_owner(customer_id):\n",
        "  print('find by owner')\n",
        "  request_body = {\n",
        "      'limit': 100,\n",
        "      'sectionType': 'SECTION_TYPE_ZERO_TOUCH',\n",
        "      'customerId': customer_id\n",
        "  }\n",
        "  response = service.partners().devices().findByOwner(partnerId=PARTNER_ID, body=request_body).execute()\n",
        "  print (response)\n",
        "\n",
        "customer_id = '1520371398' #@param {type:\"string\"}\n",
        "find_by_owner(customer_id)"
      ],
      "metadata": {
        "cellView": "form",
        "id": "pn_VOqwUXP34"
      },
      "execution_count": null,
      "outputs": []
    },
    {
      "cell_type": "markdown",
      "source": [
        "# operations"
      ],
      "metadata": {
        "id": "C58ESE_8SUiL"
      }
    },
    {
      "cell_type": "code",
      "source": [
        "#@title [operations.get](https://developers.google.com/zero-touch/reference/reseller/rest/v1/operations/get)\n",
        "#@markdown This gets the status of a long-running operation\n",
        "\n",
        "def get_operation(operation_name):\n",
        "  print('get operation')\n",
        "  response = service.operations().get(name=operation_name).execute()\n",
        "  print (response)\n",
        "\n",
        "#@markdown sample `operation_name` : `operations/apibatchoperation/5231233147924387049`\n",
        "operation_name = 'operations/apibatchoperation/5231233147924387049' #@param {type:\"string\"}\n",
        "get_operation(operation_name)"
      ],
      "metadata": {
        "cellView": "form",
        "id": "7abSKdvcSvfz"
      },
      "execution_count": null,
      "outputs": []
    }
  ]
}